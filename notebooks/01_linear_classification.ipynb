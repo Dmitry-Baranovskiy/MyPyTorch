{
 "cells": [
  {
   "cell_type": "markdown",
   "id": "17e899c9",
   "metadata": {},
   "source": [
    "0. Определяем в какой среде проект: локально или Google Colab"
   ]
  },
  {
   "cell_type": "code",
   "execution_count": 57,
   "id": "546725a7",
   "metadata": {},
   "outputs": [],
   "source": [
    "import os\n",
    "import sys\n",
    "\n",
    "# Google Colab? Проверяем по пути\n",
    "if \"google.colab\" in sys.modules:\n",
    "    from google.colab import drive\n",
    "    drive.mount('/content/drive')\n",
    "\n",
    "# Путь к проекту в Google Drive\n",
    "    project_path = \"/content/drive/MyDrive/MyPyTorch/notebooks/\"\n",
    "    %cd $project_path\n",
    "    sys.path.append(\".\")\n",
    "else:\n",
    "    project_path = os.path.abspath(\".\")\n",
    "    sys.path.append(project_path)\n"
   ]
  },
  {
   "cell_type": "markdown",
   "id": "ed539bce",
   "metadata": {},
   "source": [
    "1. Импорт модулей"
   ]
  },
  {
   "cell_type": "code",
   "execution_count": 47,
   "id": "0f574e6c",
   "metadata": {},
   "outputs": [
    {
     "name": "stdout",
     "output_type": "stream",
     "text": [
      "torch.__file__--> c:\\Users\\user\\AppData\\Local\\Programs\\Python\\Python311\\Lib\\site-packages\\torch\\__init__.py\n",
      "search path head --> c:\\Users\\user\\AppData\\Local\\Programs\\Python\\Python311\\python311.zip\n",
      "<class 'torch.nn.modules.activation.ReLU'>\n"
     ]
    }
   ],
   "source": [
    "import sys\n",
    "import os\n",
    "\n",
    "sys.path.append(os.path.abspath(\"..\"))\n",
    "\n",
    "from model import LinearClassifier\n",
    "from data_utils import get_2d_classification_data\n",
    "from train import train_model\n",
    "\n",
    "import torch\n",
    "import inspect\n",
    "print(\"torch.__file__-->\",torch.__file__)\n",
    "print(\"search path head -->\", sys.path[0])\n",
    "\n",
    "import torch.nn as nn\n",
    "print(nn.ReLU)\n",
    "import torch.optim as optim"
   ]
  },
  {
   "cell_type": "markdown",
   "id": "26f71657",
   "metadata": {},
   "source": [
    "2. Подготовка данных и модели"
   ]
  },
  {
   "cell_type": "code",
   "execution_count": 48,
   "id": "35c52245",
   "metadata": {},
   "outputs": [],
   "source": [
    "device = torch.device(\"cuda\" if torch.cuda.is_available() else \"cpu\")\n",
    "\n",
    "model = LinearClassifier().to(device)\n",
    "dataloader = get_2d_classification_data(batch_size=32)\n",
    "\n",
    "loss_fn = nn.BCELoss()\n",
    "optimizer = optim.Adam(model.parameters(), lr=0.01)"
   ]
  },
  {
   "cell_type": "markdown",
   "id": "a01e5936",
   "metadata": {},
   "source": [
    "3. Обучение модели"
   ]
  },
  {
   "cell_type": "code",
   "execution_count": 49,
   "id": "c4877d48",
   "metadata": {},
   "outputs": [
    {
     "name": "stdout",
     "output_type": "stream",
     "text": [
      "Epoch 01 | Loss: 13.0920 | Accuracy:  0.7790\n",
      "Epoch 02 | Loss: 2.4815 | Accuracy:  0.9890\n",
      "Epoch 03 | Loss: 1.3912 | Accuracy:  0.9920\n",
      "Epoch 04 | Loss: 1.3286 | Accuracy:  0.9920\n",
      "Epoch 05 | Loss: 1.3251 | Accuracy:  0.9910\n",
      "Epoch 06 | Loss: 1.3754 | Accuracy:  0.9910\n",
      "Epoch 07 | Loss: 1.3117 | Accuracy:  0.9910\n",
      "Epoch 08 | Loss: 1.2929 | Accuracy:  0.9910\n",
      "Epoch 09 | Loss: 1.2625 | Accuracy:  0.9920\n",
      "Epoch 10 | Loss: 1.2363 | Accuracy:  0.9920\n",
      "Epoch 11 | Loss: 1.2719 | Accuracy:  0.9900\n",
      "Epoch 12 | Loss: 1.3123 | Accuracy:  0.9910\n",
      "Epoch 13 | Loss: 1.2739 | Accuracy:  0.9920\n",
      "Epoch 14 | Loss: 1.2222 | Accuracy:  0.9920\n",
      "Epoch 15 | Loss: 1.2575 | Accuracy:  0.9910\n",
      "Epoch 16 | Loss: 1.3396 | Accuracy:  0.9910\n",
      "Epoch 17 | Loss: 1.2853 | Accuracy:  0.9940\n",
      "Epoch 18 | Loss: 1.2541 | Accuracy:  0.9900\n",
      "Epoch 19 | Loss: 1.2251 | Accuracy:  0.9920\n",
      "Epoch 20 | Loss: 1.2180 | Accuracy:  0.9920\n",
      "Epoch 21 | Loss: 1.2097 | Accuracy:  0.9910\n",
      "Epoch 22 | Loss: 1.2314 | Accuracy:  0.9930\n",
      "Epoch 23 | Loss: 1.2083 | Accuracy:  0.9920\n",
      "Epoch 24 | Loss: 1.2116 | Accuracy:  0.9920\n",
      "Epoch 25 | Loss: 1.1847 | Accuracy:  0.9920\n",
      "Epoch 26 | Loss: 1.2530 | Accuracy:  0.9900\n",
      "Epoch 27 | Loss: 1.2179 | Accuracy:  0.9910\n",
      "Epoch 28 | Loss: 1.1647 | Accuracy:  0.9910\n",
      "Epoch 29 | Loss: 1.1750 | Accuracy:  0.9910\n",
      "Epoch 30 | Loss: 1.2183 | Accuracy:  0.9910\n",
      "Epoch 31 | Loss: 1.1682 | Accuracy:  0.9920\n",
      "Epoch 32 | Loss: 1.1844 | Accuracy:  0.9920\n",
      "Epoch 33 | Loss: 1.1905 | Accuracy:  0.9920\n",
      "Epoch 34 | Loss: 1.2144 | Accuracy:  0.9900\n",
      "Epoch 35 | Loss: 1.2342 | Accuracy:  0.9920\n",
      "Epoch 36 | Loss: 1.1593 | Accuracy:  0.9920\n",
      "Epoch 37 | Loss: 1.2073 | Accuracy:  0.9920\n",
      "Epoch 38 | Loss: 1.2028 | Accuracy:  0.9920\n",
      "Epoch 39 | Loss: 1.2061 | Accuracy:  0.9920\n",
      "Epoch 40 | Loss: 1.2249 | Accuracy:  0.9900\n",
      "Epoch 41 | Loss: 1.1394 | Accuracy:  0.9920\n",
      "Epoch 42 | Loss: 1.1963 | Accuracy:  0.9900\n",
      "Epoch 43 | Loss: 1.1666 | Accuracy:  0.9910\n",
      "Epoch 44 | Loss: 1.1720 | Accuracy:  0.9920\n",
      "Epoch 45 | Loss: 1.1351 | Accuracy:  0.9930\n",
      "Epoch 46 | Loss: 1.1722 | Accuracy:  0.9920\n",
      "Epoch 47 | Loss: 1.1679 | Accuracy:  0.9920\n",
      "Epoch 48 | Loss: 1.1541 | Accuracy:  0.9920\n",
      "Epoch 49 | Loss: 1.1217 | Accuracy:  0.9920\n",
      "Epoch 50 | Loss: 1.1332 | Accuracy:  0.9920\n"
     ]
    }
   ],
   "source": [
    "train_model(\n",
    "    model=model,\n",
    "    dataloader=dataloader,\n",
    "    loss_fn = loss_fn,\n",
    "    optimizer=optimizer,\n",
    "    device=device,\n",
    "    epochs=50\n",
    ")\n",
    "\n"
   ]
  },
  {
   "cell_type": "markdown",
   "id": "f5981a94",
   "metadata": {},
   "source": [
    "4. Сохранение весов"
   ]
  },
  {
   "cell_type": "code",
   "execution_count": 50,
   "id": "cb2a271f",
   "metadata": {},
   "outputs": [
    {
     "name": "stdout",
     "output_type": "stream",
     "text": [
      "Model saved to checkpoints/linear_model.pt\n"
     ]
    }
   ],
   "source": [
    "os.makedirs(\"checkpoints\", exist_ok=True)\n",
    "torch.save(model.state_dict(), \"checkpoints/linear_model.pt\")\n",
    "print(\"Model saved to checkpoints/linear_model.pt\")"
   ]
  },
  {
   "cell_type": "markdown",
   "id": "d57e05b5",
   "metadata": {},
   "source": [
    "Ниже тестирование"
   ]
  },
  {
   "cell_type": "markdown",
   "id": "491fee2c",
   "metadata": {},
   "source": [
    "5. Переводим модель в режим eval"
   ]
  },
  {
   "cell_type": "code",
   "execution_count": 51,
   "id": "49bf10cc",
   "metadata": {},
   "outputs": [
    {
     "data": {
      "text/plain": [
       "LinearClassifier(\n",
       "  (net): Sequential(\n",
       "    (0): Linear(in_features=2, out_features=16, bias=True)\n",
       "    (1): ReLU()\n",
       "    (2): Linear(in_features=16, out_features=1, bias=True)\n",
       "    (3): Sigmoid()\n",
       "  )\n",
       ")"
      ]
     },
     "execution_count": 51,
     "metadata": {},
     "output_type": "execute_result"
    }
   ],
   "source": [
    "from model import LinearClassifier\n",
    "import torch\n",
    "\n",
    "model = LinearClassifier()\n",
    "model.load_state_dict(torch.load(\"checkpoints/linear_model.pt\"))\n",
    "model.eval()"
   ]
  },
  {
   "cell_type": "markdown",
   "id": "e14e3c45",
   "metadata": {},
   "source": [
    "6. Получаем новые данные для теста"
   ]
  },
  {
   "cell_type": "code",
   "execution_count": 52,
   "id": "4782a68e",
   "metadata": {},
   "outputs": [],
   "source": [
    "from data_utils import get_2d_classification_data\n",
    "\n",
    "test_loader = get_2d_classification_data(batch_size=128)"
   ]
  },
  {
   "cell_type": "markdown",
   "id": "1a7d1d0a",
   "metadata": {},
   "source": [
    "Прогоняем данные и считаем Accuracy"
   ]
  },
  {
   "cell_type": "code",
   "execution_count": 53,
   "id": "00547def",
   "metadata": {},
   "outputs": [
    {
     "name": "stdout",
     "output_type": "stream",
     "text": [
      "Accuracy on new test data: 0.9920\n"
     ]
    }
   ],
   "source": [
    "correct = 0\n",
    "total = 0\n",
    "\n",
    "with torch.no_grad():\n",
    "    for xb, yb in test_loader:\n",
    "        preds = model(xb)\n",
    "        preds_class = (preds > 0.5).float()\n",
    "        correct += ((preds_class == yb).float().sum()).item()\n",
    "        total += yb.size(0)\n",
    "\n",
    "acc = correct / total\n",
    "\n",
    "print(f\"Accuracy on new test data: {acc:.4f}\")"
   ]
  },
  {
   "cell_type": "markdown",
   "id": "260458e1",
   "metadata": {},
   "source": [
    "Рисуем график"
   ]
  },
  {
   "cell_type": "markdown",
   "id": "08ce01d2",
   "metadata": {},
   "source": [
    "Генерируем данные"
   ]
  },
  {
   "cell_type": "code",
   "execution_count": 54,
   "id": "8cdda1db",
   "metadata": {},
   "outputs": [],
   "source": [
    "from sklearn.datasets import make_classification\n",
    "import torch \n",
    "\n",
    "X, y = make_classification(\n",
    "    n_samples=1000,\n",
    "    n_features=2,\n",
    "    n_informative=2,\n",
    "    n_redundant=0,\n",
    "    n_clusters_per_class=1,\n",
    "    class_sep=2.0,\n",
    "    random_state=42\n",
    ")\n",
    "\n",
    "X = torch.tensor(X, dtype = torch.float32)\n",
    "y = torch.tensor(y,dtype=torch.float32).view(-1,1)"
   ]
  },
  {
   "cell_type": "markdown",
   "id": "941d84b9",
   "metadata": {},
   "source": [
    "Делаем предсказания"
   ]
  },
  {
   "cell_type": "code",
   "execution_count": 55,
   "id": "e5339b17",
   "metadata": {},
   "outputs": [],
   "source": [
    "from model import LinearClassifier\n",
    "\n",
    "model = LinearClassifier()\n",
    "model.load_state_dict(torch.load(\"checkpoints/linear_model.pt\"))\n",
    "model.eval()\n",
    "\n",
    "with torch.no_grad():\n",
    "    preds = model(X)\n",
    "    preds_class = (preds > 0.5).int().view(-1)"
   ]
  },
  {
   "cell_type": "code",
   "execution_count": 56,
   "id": "525f8a0a",
   "metadata": {},
   "outputs": [
    {
     "data": {
      "image/png": "[encoded data removed]",
      "text/plain": [
       "<Figure size 600x600 with 1 Axes>"
      ]
     },
     "metadata": {},
     "output_type": "display_data"
    }
   ],
   "source": [
    "import matplotlib.pyplot as plt\n",
    "\n",
    "X_np = X.numpy()\n",
    "y_pred_np = preds_class.numpy()\n",
    "\n",
    "plt.figure(figsize=(6,6))\n",
    "plt.scatter(X_np[:,0], X_np[:, 1], c= y_pred_np, cmap = \"bwr\", s=10, alpha=0.8)\n",
    "plt.title(\"Predicted classes by model\")\n",
    "plt.xlabel(\"Feature 1\")\n",
    "plt.ylabel(\"Feature 2\")\n",
    "plt.grid=True \n",
    "plt.show()"
   ]
  }
 ],
 "metadata": {
  "kernelspec": {
   "display_name": "Python 3",
   "language": "python",
   "name": "python3"
  },
  "language_info": {
   "codemirror_mode": {
    "name": "ipython",
    "version": 3
   },
   "file_extension": ".py",
   "mimetype": "text/x-python",
   "name": "python",
   "nbconvert_exporter": "python",
   "pygments_lexer": "ipython3",
   "version": "3.11.7"
  }
 },
 "nbformat": 4,
 "nbformat_minor": 5
}
