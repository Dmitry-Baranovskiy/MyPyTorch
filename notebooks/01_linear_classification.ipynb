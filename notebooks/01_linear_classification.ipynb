{
 "cells": [
  {
   "cell_type": "markdown",
   "id": "ed539bce",
   "metadata": {},
   "source": [
    "1. Импорт модулей"
   ]
  },
  {
   "cell_type": "code",
   "execution_count": 7,
   "id": "0f574e6c",
   "metadata": {},
   "outputs": [],
   "source": [
    "import sys\n",
    "import os\n",
    "\n",
    "sys.path.append(os.path.abspath(\"..\"))\n",
    "\n",
    "from model import LinearClassifier\n",
    "from data_utils import get_2d_classification_data\n",
    "from train import train_model\n",
    "\n",
    "import torch\n",
    "import torch.nn as nn\n",
    "import torch.optim as optim"
   ]
  },
  {
   "cell_type": "markdown",
   "id": "26f71657",
   "metadata": {},
   "source": [
    "2. Подготовка данных и модели"
   ]
  },
  {
   "cell_type": "code",
   "execution_count": 8,
   "id": "35c52245",
   "metadata": {},
   "outputs": [
    {
     "ename": "AttributeError",
     "evalue": "module 'torch.nn' has no attribute 'RelU'",
     "output_type": "error",
     "traceback": [
      "\u001b[31m---------------------------------------------------------------------------\u001b[39m",
      "\u001b[31mAttributeError\u001b[39m                            Traceback (most recent call last)",
      "\u001b[36mCell\u001b[39m\u001b[36m \u001b[39m\u001b[32mIn[8]\u001b[39m\u001b[32m, line 3\u001b[39m\n\u001b[32m      1\u001b[39m device = torch.device(\u001b[33m\"\u001b[39m\u001b[33mcuda\u001b[39m\u001b[33m\"\u001b[39m \u001b[38;5;28;01mif\u001b[39;00m torch.cuda.is_available() \u001b[38;5;28;01melse\u001b[39;00m \u001b[33m\"\u001b[39m\u001b[33mcpu\u001b[39m\u001b[33m\"\u001b[39m)\n\u001b[32m----> \u001b[39m\u001b[32m3\u001b[39m model = \u001b[43mLinearClassifier\u001b[49m\u001b[43m(\u001b[49m\u001b[43m)\u001b[49m.to(device)\n\u001b[32m      4\u001b[39m dataloader = get_2d_classification_data(batch_size=\u001b[32m32\u001b[39m)\n\u001b[32m      6\u001b[39m loss_fn = nn.BCELoss()\n",
      "\u001b[36mFile \u001b[39m\u001b[32mz:\\PyTorch\\model.py:10\u001b[39m, in \u001b[36mLinearClassifier.__init__\u001b[39m\u001b[34m(self)\u001b[39m\n\u001b[32m      6\u001b[39m \u001b[38;5;28;01mdef\u001b[39;00m\u001b[38;5;250m \u001b[39m\u001b[34m__init__\u001b[39m(\u001b[38;5;28mself\u001b[39m):\n\u001b[32m      7\u001b[39m     \u001b[38;5;28msuper\u001b[39m().\u001b[34m__init__\u001b[39m()\n\u001b[32m      8\u001b[39m     \u001b[38;5;28mself\u001b[39m.net = nn.Sequential(\n\u001b[32m      9\u001b[39m         nn.Linear(\u001b[32m2\u001b[39m, \u001b[32m16\u001b[39m),\n\u001b[32m---> \u001b[39m\u001b[32m10\u001b[39m         \u001b[43mnn\u001b[49m\u001b[43m.\u001b[49m\u001b[43mRelU\u001b[49m(),\n\u001b[32m     11\u001b[39m         nn.Linear(\u001b[32m16\u001b[39m,\u001b[32m1\u001b[39m),\n\u001b[32m     12\u001b[39m         nn.Sigmoid() \u001b[38;5;66;03m# для ВСЕLoss\u001b[39;00m\n\u001b[32m     13\u001b[39m     )\n",
      "\u001b[31mAttributeError\u001b[39m: module 'torch.nn' has no attribute 'RelU'"
     ]
    }
   ],
   "source": [
    "device = torch.device(\"cuda\" if torch.cuda.is_available() else \"cpu\")\n",
    "\n",
    "model = LinearClassifier().to(device)\n",
    "dataloader = get_2d_classification_data(batch_size=32)\n",
    "\n",
    "loss_fn = nn.BCELoss()\n",
    "optimizer = optim.Adam(model.parameters(), lr=0.01)"
   ]
  }
 ],
 "metadata": {
  "kernelspec": {
   "display_name": "Python 3",
   "language": "python",
   "name": "python3"
  },
  "language_info": {
   "codemirror_mode": {
    "name": "ipython",
    "version": 3
   },
   "file_extension": ".py",
   "mimetype": "text/x-python",
   "name": "python",
   "nbconvert_exporter": "python",
   "pygments_lexer": "ipython3",
   "version": "3.11.7"
  }
 },
 "nbformat": 4,
 "nbformat_minor": 5
}
